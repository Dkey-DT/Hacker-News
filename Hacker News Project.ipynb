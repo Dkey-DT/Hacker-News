{
 "cells": [
  {
   "cell_type": "markdown",
   "metadata": {
    "collapsed": true,
    "jupyter": {
     "outputs_hidden": true
    }
   },
   "source": [
    "## Hacker News Dataset Analysis\n",
    "\n",
    "> Hacker News works as Reddit, users submit posts related to startups, science, and technology. The posts may then receive votes and comments. This analysis focuses on post titles, with the goal of:\n",
    "\n",
    "#### Project Goals\n",
    "> 1. Determining which receive more comments: those that start with *Ask HN* or *Show HN*\n",
    "> 2. Examining if posts created at certain time periods attarct more response\n",
    "\n",
    "\n",
    "This analysis does not entail the use of numpy or pandas."
   ]
  },
  {
   "cell_type": "code",
   "execution_count": 44,
   "metadata": {},
   "outputs": [
    {
     "data": {
      "text/plain": [
       "[['id', 'title', 'url', 'num_points', 'num_comments', 'author', 'created_at'],\n",
       " ['12224879',\n",
       "  'Interactive Dynamic Video',\n",
       "  'http://www.interactivedynamicvideo.com/',\n",
       "  '386',\n",
       "  '52',\n",
       "  'ne0phyte',\n",
       "  '8/4/2016 11:52'],\n",
       " ['10975351',\n",
       "  'How to Use Open Source and Shut the Fuck Up at the Same Time',\n",
       "  'http://hueniverse.com/2016/01/26/how-to-use-open-source-and-shut-the-fuck-up-at-the-same-time/',\n",
       "  '39',\n",
       "  '10',\n",
       "  'josep2',\n",
       "  '1/26/2016 19:30'],\n",
       " ['11964716',\n",
       "  \"Florida DJs May Face Felony for April Fools' Water Joke\",\n",
       "  'http://www.thewire.com/entertainment/2013/04/florida-djs-april-fools-water-joke/63798/',\n",
       "  '2',\n",
       "  '1',\n",
       "  'vezycash',\n",
       "  '6/23/2016 22:20'],\n",
       " ['11919867',\n",
       "  'Technology ventures: From Idea to Enterprise',\n",
       "  'https://www.amazon.com/Technology-Ventures-Enterprise-Thomas-Byers/dp/0073523429',\n",
       "  '3',\n",
       "  '1',\n",
       "  'hswarna',\n",
       "  '6/17/2016 0:01']]"
      ]
     },
     "execution_count": 44,
     "metadata": {},
     "output_type": "execute_result"
    }
   ],
   "source": [
    "from csv import reader\n",
    "hn_file=reader(open('hacker_news.csv'))\n",
    "hn=list(hn_file)\n",
    "hn[0:5]"
   ]
  },
  {
   "cell_type": "code",
   "execution_count": 45,
   "metadata": {},
   "outputs": [],
   "source": [
    "#Removing the header row from the dataset\n",
    "header=hn[0]\n",
    "hn=hn[1:]"
   ]
  },
  {
   "cell_type": "code",
   "execution_count": 46,
   "metadata": {},
   "outputs": [
    {
     "name": "stdout",
     "output_type": "stream",
     "text": [
      "['10975351', 'How to Use Open Source and Shut the Fuck Up at the Same Time', 'http://hueniverse.com/2016/01/26/how-to-use-open-source-and-shut-the-fuck-up-at-the-same-time/', '39', '10', 'josep2', '1/26/2016 19:30']\n",
      "['10975351', 'How to Use Open Source and Shut the Fuck Up at the Same Time', 'http://hueniverse.com/2016/01/26/how-to-use-open-source-and-shut-the-fuck-up-at-the-same-time/', '39', '10', 'josep2', '1/26/2016 19:30']\n",
      "['10975351', 'How to Use Open Source and Shut the Fuck Up at the Same Time', 'http://hueniverse.com/2016/01/26/how-to-use-open-source-and-shut-the-fuck-up-at-the-same-time/', '39', '10', 'josep2', '1/26/2016 19:30']\n"
     ]
    }
   ],
   "source": [
    "for row in hn[0:3]:\n",
    "    title=hn[1]\n",
    "    print(title)"
   ]
  },
  {
   "cell_type": "code",
   "execution_count": 47,
   "metadata": {},
   "outputs": [
    {
     "name": "stdout",
     "output_type": "stream",
     "text": [
      "the total number of 'Ask HN' posts are 1744\n",
      "The total number of 'Show HN' posts are 1162\n",
      "All other posts' count is 17194\n"
     ]
    }
   ],
   "source": [
    "#separating the dataset on the condition of whether the post startswith 'Ask HN', \n",
    "#'Show Hn', or 'Others'\n",
    "\n",
    "ask_posts=[]\n",
    "show_posts=[]\n",
    "other_posts=[]\n",
    "\n",
    "for row in hn:\n",
    "    title=row[1].lower()\n",
    "    if title.startswith('ask hn'):\n",
    "        ask_posts.append(row)\n",
    "    elif title.startswith('show hn'):\n",
    "        show_posts.append(row)\n",
    "    else:\n",
    "        other_posts.append(row)\n",
    "        \n",
    "ttl_ask_posts=len(ask_posts)\n",
    "ttl_show_posts=len(show_posts)\n",
    "ttl_other_posts=len(other_posts)\n",
    "\n",
    "print(f\"the total number of 'Ask HN' posts are {ttl_ask_posts}\")\n",
    "print(f\"The total number of 'Show HN' posts are {ttl_show_posts}\")\n",
    "print(f\"All other posts' count is {ttl_other_posts}\")"
   ]
  },
  {
   "cell_type": "code",
   "execution_count": 48,
   "metadata": {},
   "outputs": [],
   "source": [
    "#Determining number of comments for either of the categories above\n",
    "#Function for determining number of comments\n",
    "\n",
    "def comment_count(dataset,index,ttl_post_count):\n",
    "    total_num_comments=0\n",
    "    for row in dataset:\n",
    "        comments=float(row[index])\n",
    "        total_num_comments+=comments\n",
    "    average_comm_per_post=total_num_comments/ttl_post_count\n",
    "    return total_num_comments, average_comm_per_post\n"
   ]
  },
  {
   "cell_type": "code",
   "execution_count": 49,
   "metadata": {},
   "outputs": [
    {
     "name": "stdout",
     "output_type": "stream",
     "text": [
      "24483.0\n",
      "\n",
      "\n",
      "14.038417431192661\n"
     ]
    }
   ],
   "source": [
    "#Determining number of comments for the ask posts and \n",
    "#the respective average number of posts per comment\n",
    "\n",
    "total_comments, average_num_posts = comment_count(ask_posts,4,ttl_ask_posts)\n",
    "print(total_comments)\n",
    "print('\\n')\n",
    "print(average_num_posts)"
   ]
  },
  {
   "cell_type": "code",
   "execution_count": 50,
   "metadata": {},
   "outputs": [
    {
     "name": "stdout",
     "output_type": "stream",
     "text": [
      "11988.0\n",
      "\n",
      "\n",
      "10.31669535283993\n"
     ]
    }
   ],
   "source": [
    "#Determining number of comments for the show posts and \n",
    "#the respective average number of posts per comment\n",
    "\n",
    "total_comments, average_num_posts = comment_count(show_posts,4,ttl_show_posts)\n",
    "print(total_comments)\n",
    "print('\\n')\n",
    "print(average_num_posts)"
   ]
  },
  {
   "cell_type": "code",
   "execution_count": 51,
   "metadata": {},
   "outputs": [
    {
     "name": "stdout",
     "output_type": "stream",
     "text": [
      "462055.0\n",
      "\n",
      "\n",
      "26.8730371059672\n"
     ]
    }
   ],
   "source": [
    "#Determining number of comments for the other post category and \n",
    "#the respective average number of posts per comment\n",
    "\n",
    "total_comments, average_num_posts = comment_count(other_posts,4,ttl_other_posts)\n",
    "print(total_comments)\n",
    "print('\\n')\n",
    "print(average_num_posts)"
   ]
  },
  {
   "cell_type": "markdown",
   "metadata": {},
   "source": [
    "> The above analysis indicates that there are more *ask HN* posts, which is a total of 24,483. Contrarily, there are 11,988 *Show HN* posts. \n",
    "\n",
    "> On average, *Ask HN* posts receive more comments (about 14 comments per post) compared to *Show HN* which attracts about 10 comments per post. Arguably, this occurence is due to the fact that Ask HN posts inherently call for a response. "
   ]
  },
  {
   "cell_type": "code",
   "execution_count": 53,
   "metadata": {},
   "outputs": [
    {
     "data": {
      "text/plain": [
       "'8/16/2016 9:55'"
      ]
     },
     "execution_count": 53,
     "metadata": {},
     "output_type": "execute_result"
    }
   ],
   "source": [
    "ask_posts[0][-1]"
   ]
  },
  {
   "cell_type": "code",
   "execution_count": 54,
   "metadata": {},
   "outputs": [],
   "source": [
    "#Convert the time column into datetime function\n",
    "\n",
    "def date_conv(dataset,index):\n",
    "    import datetime as dt\n",
    "    for row in dataset:\n",
    "        date=row[index]\n",
    "        dated=dt.datetime.strptime(date, \"%m/%d/%Y %H:%M\")\n",
    "        row[index]=dated\n",
    "    return dataset\n",
    "        "
   ]
  },
  {
   "cell_type": "code",
   "execution_count": 55,
   "metadata": {},
   "outputs": [],
   "source": [
    "#Convert date column from string to datetime\n",
    "ask_posts=date_conv(ask_posts,-1)"
   ]
  },
  {
   "cell_type": "code",
   "execution_count": 56,
   "metadata": {},
   "outputs": [],
   "source": [
    "show_posts=date_conv(show_posts,-1)"
   ]
  },
  {
   "cell_type": "code",
   "execution_count": 57,
   "metadata": {},
   "outputs": [],
   "source": [
    "#Function for extracting number of comments by hour of day based on month\n",
    "\n",
    "def comm_hour(dataset,col_index,num_comments_index):\n",
    "    import datetime as dt\n",
    "    monthly_hour_freq={}\n",
    "    for row in dataset:\n",
    "        comm_num=int(row[num_comments_index])\n",
    "        time=row[col_index]\n",
    "        time_day=dt.datetime.strftime(time, \"%m %H\")\n",
    "        month,hour=time_day.split(' ')\n",
    "        if month in monthly_hour_freq:\n",
    "            if hour in monthly_hour_freq[month]:\n",
    "                monthly_hour_freq[month][hour]+=comm_num\n",
    "            else:\n",
    "                monthly_hour_freq[month][hour]=comm_num\n",
    "        else:\n",
    "            monthly_hour_freq[month]={}\n",
    "            monthly_hour_freq[month][hour]=comm_num\n",
    "    return monthly_hour_freq"
   ]
  },
  {
   "cell_type": "code",
   "execution_count": 58,
   "metadata": {},
   "outputs": [
    {
     "name": "stdout",
     "output_type": "stream",
     "text": [
      "{'09': 48, '14': 216, '18': 77, '20': 556, '17': 188, '23': 16, '01': 98, '00': 11, '13': 140, '19': 40, '11': 38, '21': 38, '05': 173, '10': 128, '08': 163, '12': 116, '15': 1093, '22': 31, '02': 16, '07': 37, '04': 4, '16': 113, '06': 30, '03': 44}\n",
      "\n",
      "\n",
      "{'16': 149, '07': 6, '15': 33, '02': 1, '18': 12, '06': 2, '14': 29, '13': 329, '23': 64, '19': 37, '21': 4, '17': 184, '05': 7, '11': 84, '12': 93, '03': 35, '08': 29, '20': 34, '10': 22, '00': 1, '01': 3, '22': 5}\n"
     ]
    }
   ],
   "source": [
    "#Create a nested dictionary highligting comments by month and time\n",
    "#Graphs of these can be plotted to determine how \n",
    "#commenting varies by time for a given month\n",
    "#This is oputside the scope of my current objective though\n",
    "month_and_hour_ask=comm_hour(ask_posts,-1,-3)\n",
    "month_and_hour_show=comm_hour(show_posts,-1,-3)\n",
    "print(month_and_hour_ask['08'])\n",
    "print('\\n')\n",
    "print(month_and_hour_show['08'])"
   ]
  },
  {
   "cell_type": "code",
   "execution_count": 59,
   "metadata": {},
   "outputs": [],
   "source": [
    "#Function for determining total num of comments by month\n",
    "\n",
    "def tot_monthly_com(data_dict):\n",
    "    monthly_freq={}\n",
    "    for month in data_dict:\n",
    "            l_dict=data_dict[month]\n",
    "            tot=sum(l_dict.values())\n",
    "            monthly_freq[month]=tot\n",
    "    return monthly_freq\n",
    "            "
   ]
  },
  {
   "cell_type": "code",
   "execution_count": 60,
   "metadata": {
    "scrolled": true
   },
   "outputs": [
    {
     "data": {
      "text/plain": [
       "{'08': 3414,\n",
       " '11': 1657,\n",
       " '05': 2560,\n",
       " '10': 1089,\n",
       " '09': 3466,\n",
       " '04': 1596,\n",
       " '02': 940,\n",
       " '06': 2144,\n",
       " '01': 2178,\n",
       " '03': 2655,\n",
       " '07': 1662,\n",
       " '12': 1122}"
      ]
     },
     "execution_count": 60,
     "metadata": {},
     "output_type": "execute_result"
    }
   ],
   "source": [
    "#Applying the function on the earlier monthly and hourly \n",
    "#nested dictionary on the ask posts\n",
    "\n",
    "tot_monthly_com(month_and_hour_ask)"
   ]
  },
  {
   "cell_type": "code",
   "execution_count": 61,
   "metadata": {
    "scrolled": true
   },
   "outputs": [
    {
     "data": {
      "text/plain": [
       "{'11': 805,\n",
       " '04': 876,\n",
       " '07': 687,\n",
       " '01': 1092,\n",
       " '03': 1280,\n",
       " '09': 1559,\n",
       " '08': 1163,\n",
       " '06': 868,\n",
       " '02': 1041,\n",
       " '10': 947,\n",
       " '12': 533,\n",
       " '05': 1137}"
      ]
     },
     "execution_count": 61,
     "metadata": {},
     "output_type": "execute_result"
    }
   ],
   "source": [
    "#Applying the function on the earlier monthly and hourly \n",
    "#nested dictionary on the show posts\n",
    "\n",
    "tot_monthly_com(month_and_hour_show)"
   ]
  },
  {
   "cell_type": "markdown",
   "metadata": {},
   "source": [
    "> The above analysis indicates that August and September are the months with the highest comments. \n",
    "\n",
    "> A more indepth analysis can be done in a similar approach to the one done (month and time above) by creating frequency tables of year and monthly rate of commenting to ascertain if this monthly trend is reflected on a yearly basis.\n",
    "\n",
    "> In the Ask HN and Show HN comparative analysis, a clearer picture is attainable with the plotting of the data. However, while August and September have the highest rate of commenting for the Ask HN posts, March and September have the highest numbers for Show HN"
   ]
  },
  {
   "cell_type": "code",
   "execution_count": 63,
   "metadata": {},
   "outputs": [],
   "source": [
    "#Overall examination of time vs commenting rate\n",
    "#Function for generating a frequency table of\n",
    "#time and total number of comments\n",
    "\n",
    "def comm_time(dataset,time_index,comm_index):\n",
    "    import datetime as dt\n",
    "    time_comm_agg={}\n",
    "    for row in dataset:\n",
    "        comm_num=int(row[comm_index])\n",
    "        time=row[time_index]\n",
    "        time_day=dt.datetime.strftime(time, \"%H\")\n",
    "        if time_day in time_comm_agg:\n",
    "            time_comm_agg[time_day]+=comm_num                                       \n",
    "        else:\n",
    "            time_comm_agg[time_day]=comm_num\n",
    "    return time_comm_agg\n"
   ]
  },
  {
   "cell_type": "code",
   "execution_count": 64,
   "metadata": {},
   "outputs": [],
   "source": [
    "#Determine percentages  function based on time of the day\n",
    "\n",
    "def timewise_com(data):\n",
    "    time_freq={}\n",
    "    for item in data:\n",
    "        time_freq[item]=round((data[item]/sum(data.values())*100),2)\n",
    "    return time_freq\n"
   ]
  },
  {
   "cell_type": "code",
   "execution_count": 65,
   "metadata": {
    "scrolled": true
   },
   "outputs": [
    {
     "data": {
      "text/plain": [
       "{'09': 1.03,\n",
       " '13': 5.12,\n",
       " '10': 3.24,\n",
       " '14': 5.78,\n",
       " '16': 7.41,\n",
       " '23': 2.22,\n",
       " '12': 2.81,\n",
       " '17': 4.68,\n",
       " '15': 18.29,\n",
       " '21': 7.13,\n",
       " '20': 7.03,\n",
       " '02': 5.64,\n",
       " '18': 5.88,\n",
       " '03': 1.72,\n",
       " '05': 1.9,\n",
       " '19': 4.85,\n",
       " '01': 2.79,\n",
       " '22': 1.96,\n",
       " '08': 2.01,\n",
       " '04': 1.38,\n",
       " '00': 1.83,\n",
       " '06': 1.62,\n",
       " '07': 1.09,\n",
       " '11': 2.62}"
      ]
     },
     "execution_count": 65,
     "metadata": {},
     "output_type": "execute_result"
    }
   ],
   "source": [
    "#Application of the functions on the Ask HN posts\n",
    "timewise_com_ask=comm_time(ask_posts,-1,-3)\n",
    "timewise_com(timewise_com_ask)"
   ]
  },
  {
   "cell_type": "code",
   "execution_count": 66,
   "metadata": {},
   "outputs": [
    {
     "data": {
      "text/plain": [
       "{'14': 9.64,\n",
       " '22': 4.75,\n",
       " '18': 8.02,\n",
       " '07': 2.49,\n",
       " '20': 5.11,\n",
       " '05': 0.48,\n",
       " '16': 9.04,\n",
       " '19': 4.5,\n",
       " '15': 5.27,\n",
       " '03': 2.39,\n",
       " '17': 7.6,\n",
       " '06': 1.18,\n",
       " '02': 1.06,\n",
       " '13': 7.89,\n",
       " '08': 1.38,\n",
       " '21': 2.27,\n",
       " '04': 2.06,\n",
       " '11': 4.1,\n",
       " '12': 6.01,\n",
       " '23': 3.73,\n",
       " '09': 2.43,\n",
       " '01': 2.05,\n",
       " '10': 2.48,\n",
       " '00': 4.06}"
      ]
     },
     "execution_count": 66,
     "metadata": {},
     "output_type": "execute_result"
    }
   ],
   "source": [
    "#Application of the functions on the Show HN posts\n",
    "timewise_com_show=comm_time(show_posts,-1,-3)\n",
    "timewise_com(timewise_com_show)"
   ]
  },
  {
   "cell_type": "markdown",
   "metadata": {},
   "source": [
    "> The analysis above indicates that most Ask HN posts receive more comments around 3pm and 4pm.\n",
    "> Contrarily, rate of commenting for the Show HN posts is at 2pm and 4pm\n",
    "\n",
    "> This is a relatively superficial analysis. A more informative analysis can be done by examining the rate of response based on posts per hour. This will help determine whether the above rates are due to more people making posts which attarct responses from their followers as opposed to a more natural rate of response among users.\n",
    "\n",
    "\n",
    "### Conclusion\n",
    "\n",
    "The analysis notes that:\n",
    "> 1. There are more Ask HN posts (24,483) compared to Show HN posts (11,988)\n",
    "> 2. Ask HN posts receive more comments per post (14) compared to Show HN posts (10)\n",
    "> 3. For Ask HN posts, those made at 3pm and 4 pm receive more comments "
   ]
  }
 ],
 "metadata": {
  "kernelspec": {
   "display_name": "Python 3 (ipykernel)",
   "language": "python",
   "name": "python3"
  },
  "language_info": {
   "codemirror_mode": {
    "name": "ipython",
    "version": 3
   },
   "file_extension": ".py",
   "mimetype": "text/x-python",
   "name": "python",
   "nbconvert_exporter": "python",
   "pygments_lexer": "ipython3",
   "version": "3.11.7"
  }
 },
 "nbformat": 4,
 "nbformat_minor": 4
}
